{
 "cells": [
  {
   "cell_type": "code",
   "execution_count": 16,
   "metadata": {},
   "outputs": [],
   "source": [
    "import numpy as np\n",
    "from matplotlib import pyplot as plt\n",
    "import string"
   ]
  },
  {
   "cell_type": "code",
   "execution_count": 17,
   "metadata": {},
   "outputs": [],
   "source": [
    "pii=[]\n",
    "lines=[]\n",
    "with open('initialStateDistribution.txt') as isd:\n",
    "    lines=isd.readlines()\n",
    "for line in lines:\n",
    "    pii.append(float(line[:-1]))"
   ]
  },
  {
   "cell_type": "code",
   "execution_count": 18,
   "metadata": {},
   "outputs": [],
   "source": [
    "with open('emissionMatrix.txt') as em:\n",
    "    temp=[line.split('\\t') for line in em.read().splitlines()]\n",
    "bij=np.array(temp).astype('float')"
   ]
  },
  {
   "cell_type": "code",
   "execution_count": 19,
   "metadata": {},
   "outputs": [],
   "source": [
    "with open('transitionMatrix.txt') as em:\n",
    "    temp=[line.split(' ')[:-1] for line in em.read().splitlines()]\n",
    "aij=np.array(temp).astype('float')"
   ]
  },
  {
   "cell_type": "code",
   "execution_count": 20,
   "metadata": {},
   "outputs": [],
   "source": [
    "with open('observations.txt') as obsv:\n",
    "    temp=[line.split(' ') for line in obsv.read().splitlines()]\n",
    "Ot=np.array(temp[0][:-1]).astype('int')"
   ]
  },
  {
   "cell_type": "code",
   "execution_count": 21,
   "metadata": {},
   "outputs": [],
   "source": [
    "pii=np.reshape(pii,(-1,1))"
   ]
  },
  {
   "cell_type": "code",
   "execution_count": 22,
   "metadata": {},
   "outputs": [],
   "source": [
    "def ml_state_sequence(pii,aij,bij,Ot):\n",
    "    lstar=np.zeros([np.shape(pii)[0],np.shape(Ot)[0]]).astype('float')\n",
    "    lstar[:,0]=(np.log(pii)+np.log(bij[:,Ot[0]]).reshape((-1,1))).reshape((-1,))\n",
    "    for i in range(1,len(Ot)):\n",
    "        lstar[:,i]=np.max(lstar[:,i-1].reshape(-1,1)+np.log(aij),axis=0).reshape((-1,))+np.log(bij[:,Ot[i]]).reshape((-1,))\n",
    "    return lstar"
   ]
  },
  {
   "cell_type": "code",
   "execution_count": 23,
   "metadata": {},
   "outputs": [],
   "source": [
    "lstar=ml_state_sequence(pii,aij,bij,Ot)"
   ]
  },
  {
   "cell_type": "code",
   "execution_count": 24,
   "metadata": {},
   "outputs": [],
   "source": [
    "def most_likely_state(lstar,aij):\n",
    "    St=np.zeros((lstar.shape[1],)).astype('int')\n",
    "    St[-1]=np.argmax(lstar[:,-1],axis=0)\n",
    "    print(St)\n",
    "    for i in range(lstar.shape[1]-2,-1,-1):\n",
    "        St[i]=np.argmax(lstar[:,i]+np.log(aij[:,St[i+1]]),axis=0)\n",
    "    return St"
   ]
  },
  {
   "cell_type": "code",
   "execution_count": 25,
   "metadata": {},
   "outputs": [
    {
     "name": "stdout",
     "output_type": "stream",
     "text": [
      "[ 0  0  0 ...  0  0 17]\n"
     ]
    },
    {
     "data": {
      "image/png": "[encoded data removed]",
      "text/plain": [
       "<Figure size 432x288 with 1 Axes>"
      ]
     },
     "metadata": {
      "needs_background": "light"
     },
     "output_type": "display_data"
    }
   ],
   "source": [
    "speech=most_likely_state(lstar,aij)\n",
    "plt.figure()\n",
    "plt.plot(speech)\n",
    "plt.xlabel('t')\n",
    "plt.ylabel('n')\n",
    "plt.savefig('speech.png')\n"
   ]
  },
  {
   "cell_type": "code",
   "execution_count": 26,
   "metadata": {},
   "outputs": [],
   "source": [
    "word=[x for x in speech[4000:-1:5000]]"
   ]
  },
  {
   "cell_type": "code",
   "execution_count": 27,
   "metadata": {
    "scrolled": true
   },
   "outputs": [
    {
     "name": "stdout",
     "output_type": "stream",
     "text": [
      "[14, 10, 0, 24, 26, 1, 14, 14, 12, 4, 17]\n"
     ]
    }
   ],
   "source": [
    "alphabets=list(string.ascii_lowercase)\n",
    "alphabets.append(' ')\n",
    "print(word)\n",
    "speech=[]\n",
    "for i,s in enumerate(word):\n",
    "    speech.append(alphabets[s])"
   ]
  },
  {
   "cell_type": "code",
   "execution_count": 29,
   "metadata": {},
   "outputs": [
    {
     "name": "stdout",
     "output_type": "stream",
     "text": [
      "['o', 'k', 'a', 'y', ' ', 'b', 'o', 'o', 'm', 'e', 'r']\n"
     ]
    }
   ],
   "source": [
    "print(speech)"
   ]
  },
  {
   "cell_type": "code",
   "execution_count": null,
   "metadata": {},
   "outputs": [],
   "source": []
  }
 ],
 "metadata": {
  "kernelspec": {
   "display_name": "Python 3",
   "language": "python",
   "name": "python3"
  },
  "language_info": {
   "codemirror_mode": {
    "name": "ipython",
    "version": 3
   },
   "file_extension": ".py",
   "mimetype": "text/x-python",
   "name": "python",
   "nbconvert_exporter": "python",
   "pygments_lexer": "ipython3",
   "version": "3.7.3"
  }
 },
 "nbformat": 4,
 "nbformat_minor": 2
}
